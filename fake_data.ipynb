{
 "cells": [
  {
   "cell_type": "code",
   "execution_count": 14,
   "metadata": {},
   "outputs": [
    {
     "name": "stdout",
     "output_type": "stream",
     "text": [
      "[['cc', 'b', 'aaa', 'bb', 'b', 'd', 'aaa', 'bb', 'c'], ['bb', 'aaa', 'cc', 'c', 'aaa', 'dd', 'dd', 'd', 'dd', 'aaa'], ['dd', 'cc', 'bb', 'a', 'b', 'c', 'dd', 'dd'], ['d', 'aaa', 'd', 'bb', 'a'], ['b', 'd', 'cc', 'a', 'bb', 'd', 'aaa', 'aaa']]\n",
      "[['3', '3', '4', '2', '2', '1', '2', '2', '2', '2', '4', '1', '2', '2', '3', '3', '4'], ['2', '2', '1', '3', '3', '4', '3', '3', '4', '1', '4', '4', '4', '4', '1'], ['4', '3', '3', '4', '2', '2', '1', '2', '2', '3', '3', '4', '4', '4'], ['4', '1', '4', '2', '2', '1'], ['2', '2', '4', '3', '3', '4', '1', '2', '2', '4', '1', '1']]\n",
      "1000\n",
      "1000\n",
      "10\n",
      "14\n",
      "9\n"
     ]
    }
   ],
   "source": [
    "import random\n",
    "import numpy as np\n",
    "from word_sequence import WordSequence\n",
    "\n",
    "def generate(max_len=10, size=1000, same_len=False, seed=0):\n",
    "    \"\"\"生成虚假的数据\"\"\"\n",
    "\n",
    "    dictionary = {\n",
    "        'a': '1',\n",
    "        'b': '2',\n",
    "        'c': '3',\n",
    "        'd': '4',\n",
    "        'aa': '1',\n",
    "        'bb': '2',\n",
    "        'cc': '3',\n",
    "        'dd': '4',\n",
    "        'aaa': '1',\n",
    "    }\n",
    "\n",
    "    if seed is not None:\n",
    "        random.seed(seed)\n",
    "\n",
    "    input_list = sorted(list(dictionary.keys()))\n",
    "    #['a', 'aa', 'aaa', 'b', 'bb', 'c', 'cc', 'd', 'dd']\n",
    "    x_data = []\n",
    "    y_data = []\n",
    "\n",
    "    for x in range(size):#生成size个词\n",
    "        a_len = int(random.random() * max_len) + 1#当前的词长度\n",
    "        x = []\n",
    "        y = []\n",
    "        for _ in range(a_len):#给当前词添加字母\n",
    "            word = input_list[int(random.random() * len(input_list))]\n",
    "            x.append(word)#a,,aa,b,bb\n",
    "            y.append(dictionary[word])#数字\n",
    "            if not same_len:\n",
    "                if y[-1] == '2':#当前添加的字母是否是2，是的话继续添加一个2\n",
    "                    y.append('2')\n",
    "                elif y[-1] == '3':\n",
    "                    y.append('3')\n",
    "                    y.append('4')\n",
    "        x_data.append(x)\n",
    "        y_data.append(y)\n",
    "        \n",
    "    print(x_data[:5])\n",
    "    print(y_data[:5])\n",
    "    \n",
    "    ws_input = WordSequence()\n",
    "    ws_input.fit(x_data)\n",
    "\n",
    "    ws_target = WordSequence()\n",
    "    ws_target.fit(y_data)\n",
    "    return x_data, y_data, ws_input, ws_target\n",
    "\n",
    "def test():\n",
    "    x_data, y_data, ws_input, ws_target = generate()\n",
    "    print(len(x_data))\n",
    "    assert len(x_data) == 1000\n",
    "    print(len(y_data))\n",
    "    assert len(y_data) == 1000\n",
    "    print(np.max([len(x) for x in x_data]))\n",
    "    assert np.max([len(x) for x in x_data]) == 10\n",
    "    print(len(ws_input))\n",
    "    assert len(ws_input) == 14#返回对象（字符、列表、元组等）长度或项目个数。\n",
    "    print(len(ws_target))\n",
    "\n",
    "if __name__ == '__main__':\n",
    "    test()"
   ]
  },
  {
   "cell_type": "code",
   "execution_count": null,
   "metadata": {},
   "outputs": [],
   "source": []
  }
 ],
 "metadata": {
  "kernelspec": {
   "display_name": "Python 3",
   "language": "python",
   "name": "python3"
  },
  "language_info": {
   "codemirror_mode": {
    "name": "ipython",
    "version": 3
   },
   "file_extension": ".py",
   "mimetype": "text/x-python",
   "name": "python",
   "nbconvert_exporter": "python",
   "pygments_lexer": "ipython3",
   "version": "3.6.5"
  }
 },
 "nbformat": 4,
 "nbformat_minor": 2
}
